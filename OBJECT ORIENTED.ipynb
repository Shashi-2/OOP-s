{
 "cells": [
  {
   "cell_type": "markdown",
   "id": "c21cd0a2",
   "metadata": {},
   "source": [
    "#### 7 PROPERTIES IN OOP's\n",
    "1.CLASS:-\n",
    "        \n",
    "        ##updated version of struction(struct in \"C\").\n",
    "        \n",
    "        Collection of variables and methods.\n",
    "        \n",
    "        Class is a blueprint.\n",
    "\n",
    "2.OBJECT:- \n",
    "        \n",
    "        Run time or real time entity(unique).\n",
    "        \n",
    "        Hash code.  id()\n",
    "\n",
    "3.ABSTRACTION AND ENCAPSULATION:-\n",
    "        \n",
    "        Abstraction is showing only assential features without showing any background details.\n",
    "        \n",
    "        Encapsulation - Wrapping up of data in a single unit.\n",
    "\n",
    "4.INHERITANCE:-\n",
    "        \n",
    "        Acquring priperties of one class inot another.\n",
    "        \n",
    "        code reuse\n",
    "        \n",
    "        ex= window 7  to window 10\n",
    "        \n",
    "        types:-\n",
    "        \n",
    "        Single level\n",
    "        \n",
    "        Multi level\n",
    "        \n",
    "        Hierarchical\n",
    "        \n",
    "        Multiple\n",
    "        \n",
    "        Hybrid\n",
    "                    \n",
    "5.POLYMORPHISM\n",
    "        \n",
    "        Same name multiple functionalities\n",
    "        \n",
    "        types:-\n",
    "        \n",
    "        Method overloaded   # pythod do not support overloading bcz last value is final value.\n",
    "        \n",
    "        ex:-add()\n",
    "        \n",
    "        add(x,y)\n",
    "        \n",
    "        add(x,y,z)\n",
    "        \n",
    "        Method overriding\n",
    "        \n",
    "        ex:-add()##this value will be use\n",
    "                \n",
    "6.DYNAMIC MEMORY ALLOCATION\n",
    "        \n",
    "        Run time memory allocation / late binding / Dynamic binding\n",
    "           \n",
    "7.MESSAGE PASSING\n",
    "        \n",
    "        Cmmunication bw objects"
   ]
  },
  {
   "cell_type": "markdown",
   "id": "956552e9",
   "metadata": {},
   "source": [
    "### CLASS"
   ]
  },
  {
   "cell_type": "code",
   "execution_count": 4,
   "id": "1fd11a38",
   "metadata": {},
   "outputs": [],
   "source": [
    "class Rox:\n",
    "    def fat():\n",
    "        print(\"ratting\")"
   ]
  },
  {
   "cell_type": "code",
   "execution_count": 8,
   "id": "274b4067",
   "metadata": {},
   "outputs": [
    {
     "ename": "TypeError",
     "evalue": "fat() takes 0 positional arguments but 1 was given",
     "output_type": "error",
     "traceback": [
      "\u001b[1;31m---------------------------------------------------------------------------\u001b[0m",
      "\u001b[1;31mTypeError\u001b[0m                                 Traceback (most recent call last)",
      "\u001b[1;32m~\\AppData\\Local\\Temp/ipykernel_580/3877774146.py\u001b[0m in \u001b[0;36m<module>\u001b[1;34m\u001b[0m\n\u001b[0;32m      1\u001b[0m \u001b[0ma\u001b[0m\u001b[1;33m=\u001b[0m\u001b[0mRox\u001b[0m\u001b[1;33m(\u001b[0m\u001b[1;33m)\u001b[0m\u001b[1;33m\u001b[0m\u001b[1;33m\u001b[0m\u001b[0m\n\u001b[1;32m----> 2\u001b[1;33m \u001b[0ma\u001b[0m\u001b[1;33m.\u001b[0m\u001b[0mfat\u001b[0m\u001b[1;33m(\u001b[0m\u001b[1;33m)\u001b[0m\u001b[1;33m\u001b[0m\u001b[1;33m\u001b[0m\u001b[0m\n\u001b[0m",
      "\u001b[1;31mTypeError\u001b[0m: fat() takes 0 positional arguments but 1 was given"
     ]
    }
   ],
   "source": [
    "a=Rox()\n",
    "a.fat()"
   ]
  },
  {
   "cell_type": "code",
   "execution_count": 10,
   "id": "cd0b2bf3",
   "metadata": {},
   "outputs": [
    {
     "name": "stdout",
     "output_type": "stream",
     "text": [
      "ratting\n"
     ]
    }
   ],
   "source": [
    "class Rox:\n",
    "    def fat(self):    #self==current obj\n",
    "        print(\"ratting\")\n",
    "a=Rox()\n",
    "a.fat()    "
   ]
  },
  {
   "cell_type": "code",
   "execution_count": 11,
   "id": "34c6caad",
   "metadata": {},
   "outputs": [
    {
     "name": "stdout",
     "output_type": "stream",
     "text": [
      "<__main__.Rox object at 0x000002452872E6D0>\n"
     ]
    }
   ],
   "source": [
    "print(a)"
   ]
  },
  {
   "cell_type": "code",
   "execution_count": 12,
   "id": "418e22b9",
   "metadata": {},
   "outputs": [
    {
     "name": "stdout",
     "output_type": "stream",
     "text": [
      "2496054617808\n"
     ]
    }
   ],
   "source": [
    "print(id(a))"
   ]
  },
  {
   "cell_type": "code",
   "execution_count": 13,
   "id": "9183b585",
   "metadata": {},
   "outputs": [
    {
     "name": "stdout",
     "output_type": "stream",
     "text": [
      "<__main__.Rox object at 0x0000024528756FA0>\n"
     ]
    }
   ],
   "source": [
    "print(Rox())"
   ]
  },
  {
   "cell_type": "code",
   "execution_count": 15,
   "id": "d47c7ad3",
   "metadata": {},
   "outputs": [
    {
     "name": "stdout",
     "output_type": "stream",
     "text": [
      "2496055485584\n"
     ]
    }
   ],
   "source": [
    "print(id(Rox()))"
   ]
  },
  {
   "cell_type": "code",
   "execution_count": null,
   "id": "1f17c6f9",
   "metadata": {},
   "outputs": [],
   "source": [
    "TV blueprint    -class\n",
    "-smart tv\n",
    "-colours\n",
    "-hdmi\n",
    "-usb\n",
    "\n",
    "Actual tv       -object\n",
    "\n",
    "remote-reference"
   ]
  },
  {
   "cell_type": "code",
   "execution_count": 3,
   "id": "e36bc347",
   "metadata": {},
   "outputs": [],
   "source": [
    "class football:\n",
    "    def goal(self,x): #self=t,x=5\n",
    "        self.a=x      #a- class variable/calass member,x= local variable\n",
    "        #self.a=5\n",
    "        #t.a=5\n",
    "        \n",
    "    def display(self):\n",
    "        print(self.a)\n",
    "\n",
    "t=football()"
   ]
  },
  {
   "cell_type": "code",
   "execution_count": 4,
   "id": "21b32232",
   "metadata": {},
   "outputs": [],
   "source": [
    "t.goal(5)"
   ]
  },
  {
   "cell_type": "code",
   "execution_count": 5,
   "id": "64def798",
   "metadata": {},
   "outputs": [
    {
     "name": "stdout",
     "output_type": "stream",
     "text": [
      "5\n"
     ]
    }
   ],
   "source": [
    "t.display()"
   ]
  },
  {
   "cell_type": "code",
   "execution_count": 6,
   "id": "8b7c58dc",
   "metadata": {},
   "outputs": [
    {
     "name": "stdout",
     "output_type": "stream",
     "text": [
      "<class '__main__.football'>\n"
     ]
    }
   ],
   "source": [
    "print(type(t))"
   ]
  },
  {
   "cell_type": "code",
   "execution_count": 7,
   "id": "cf447a21",
   "metadata": {},
   "outputs": [
    {
     "name": "stdout",
     "output_type": "stream",
     "text": [
      "2414886237856\n"
     ]
    }
   ],
   "source": [
    "print(id(t))"
   ]
  },
  {
   "cell_type": "code",
   "execution_count": 8,
   "id": "26d781ab",
   "metadata": {},
   "outputs": [
    {
     "name": "stdout",
     "output_type": "stream",
     "text": [
      "2414811441584\n"
     ]
    }
   ],
   "source": [
    "print(id(5))"
   ]
  },
  {
   "cell_type": "code",
   "execution_count": 11,
   "id": "7fe034da",
   "metadata": {},
   "outputs": [
    {
     "name": "stdout",
     "output_type": "stream",
     "text": [
      "2414811441584\n"
     ]
    }
   ],
   "source": [
    "r=5\n",
    "print(id(r))"
   ]
  },
  {
   "cell_type": "code",
   "execution_count": 12,
   "id": "f524a982",
   "metadata": {},
   "outputs": [],
   "source": [
    "class Rate:\n",
    "    def add(self):\n",
    "        print(self)\n",
    "        print(\"Last\")"
   ]
  },
  {
   "cell_type": "code",
   "execution_count": 13,
   "id": "5b870d19",
   "metadata": {},
   "outputs": [
    {
     "name": "stdout",
     "output_type": "stream",
     "text": [
      "<__main__.Rate object at 0x00000232427A2BB0>\n",
      "\n",
      "<__main__.Rate object at 0x00000232427A2BB0>\n",
      "Last\n"
     ]
    }
   ],
   "source": [
    "s=Rate()\n",
    "print(s)\n",
    "print()\n",
    "s.add()"
   ]
  },
  {
   "cell_type": "code",
   "execution_count": 14,
   "id": "7abde082",
   "metadata": {},
   "outputs": [
    {
     "name": "stdout",
     "output_type": "stream",
     "text": [
      "<__main__.Rate object at 0x000002324278C640>\n",
      "2414886831680\n",
      "\n",
      "<__main__.Rate object at 0x000002324278C640>\n",
      "2414886831680\n",
      "Last\n"
     ]
    }
   ],
   "source": [
    "class Rate:\n",
    "    def add(self):\n",
    "        print(self)\n",
    "        print(id(self))\n",
    "        print(\"Last\")\n",
    "s=Rate()\n",
    "print(s)\n",
    "print(id(s))\n",
    "print()\n",
    "s.add()"
   ]
  },
  {
   "cell_type": "code",
   "execution_count": 15,
   "id": "290192fc",
   "metadata": {},
   "outputs": [
    {
     "name": "stdout",
     "output_type": "stream",
     "text": [
      "<__main__.Rate object at 0x00000232427A24C0>\n",
      "\n",
      "<__main__.Rate object at 0x00000232427A24C0>\n",
      "2414886921408\n",
      "Last\n"
     ]
    }
   ],
   "source": [
    "s1=Rate()            #new obj= new id created\n",
    "print(s1)\n",
    "print()\n",
    "s1.add()"
   ]
  },
  {
   "cell_type": "code",
   "execution_count": 18,
   "id": "406c08fa",
   "metadata": {},
   "outputs": [
    {
     "name": "stdout",
     "output_type": "stream",
     "text": [
      "This is add method\n",
      "This is add method\n",
      "50\n",
      "10\n"
     ]
    }
   ],
   "source": [
    "class Test:\n",
    "    def add(self):\n",
    "        print(\"This is add method\")\n",
    "    \n",
    "    def mult(self,a,b):       #a and b are local variables\n",
    "        print(a*b)\n",
    "        print(b)\n",
    "t1=Test()\n",
    "t2=Test()\n",
    "\n",
    "t1.add()\n",
    "t2.add()\n",
    "\n",
    "t1.mult(5,10)"
   ]
  },
  {
   "cell_type": "markdown",
   "id": "70cfc9be",
   "metadata": {},
   "source": [
    "#### Local variables and class variable"
   ]
  },
  {
   "cell_type": "code",
   "execution_count": 20,
   "id": "8583cc3f",
   "metadata": {},
   "outputs": [
    {
     "name": "stdout",
     "output_type": "stream",
     "text": [
      "This is me\n",
      "This is me\n",
      "10\n",
      "50\n",
      "20\n",
      "100\n"
     ]
    }
   ],
   "source": [
    "class Test:\n",
    "    def add(self):\n",
    "        print(\"This is me\")\n",
    "        \n",
    "    def val(self,a,b):             #a & b are local variable\n",
    "        self.x=a               #t1.x=10   , t2.x=20     x & y both are class variables \n",
    "        self.y=b               #t1.y=50   ,t2.y=20      or instance(member of class) variables\n",
    "        \n",
    "    def show(self):\n",
    "        print(self.x)\n",
    "        print(self.y)\n",
    "        \n",
    "t1=Test()\n",
    "t2=Test()\n",
    "\n",
    "t1.add()\n",
    "t2.add()\n",
    "\n",
    "t1.val(10,50)\n",
    "t2.val(20,100)\n",
    "\n",
    "t1.show()\n",
    "t2.show()\n",
    "    "
   ]
  },
  {
   "cell_type": "markdown",
   "id": "5546f469",
   "metadata": {},
   "source": [
    "#### Constructor\n",
    "\n",
    "Constructor are special member method of a class.\n",
    "\n",
    "    magic method or dunders"
   ]
  },
  {
   "cell_type": "code",
   "execution_count": null,
   "id": "cca21f25",
   "metadata": {},
   "outputs": [],
   "source": [
    "__init__()"
   ]
  },
  {
   "cell_type": "code",
   "execution_count": 21,
   "id": "00aaa5c6",
   "metadata": {},
   "outputs": [],
   "source": [
    "class Cat:\n",
    "    def __init__(self):\n",
    "        print(\"Hey!\")"
   ]
  },
  {
   "cell_type": "code",
   "execution_count": 23,
   "id": "cf218517",
   "metadata": {},
   "outputs": [
    {
     "name": "stdout",
     "output_type": "stream",
     "text": [
      "Hey!\n"
     ]
    }
   ],
   "source": [
    "q=Cat()      #when you create object constructor will compile internally"
   ]
  },
  {
   "cell_type": "markdown",
   "id": "1c39f743",
   "metadata": {},
   "source": [
    "##### Paramatrized constructor"
   ]
  },
  {
   "cell_type": "code",
   "execution_count": 24,
   "id": "fe8ee8eb",
   "metadata": {},
   "outputs": [],
   "source": [
    "class Run:\n",
    "    def __init__(self,x):         #if u give argu u must give the value during obj creation\n",
    "        self.r=x"
   ]
  },
  {
   "cell_type": "code",
   "execution_count": 25,
   "id": "2b9cf297",
   "metadata": {},
   "outputs": [],
   "source": [
    "d=Run(50)"
   ]
  },
  {
   "cell_type": "code",
   "execution_count": 26,
   "id": "c189e0d2",
   "metadata": {},
   "outputs": [
    {
     "name": "stdout",
     "output_type": "stream",
     "text": [
      "50\n"
     ]
    }
   ],
   "source": [
    "print(d.r)"
   ]
  },
  {
   "cell_type": "code",
   "execution_count": 28,
   "id": "7faaa509",
   "metadata": {},
   "outputs": [
    {
     "name": "stdout",
     "output_type": "stream",
     "text": [
      "5\n",
      "11\n"
     ]
    }
   ],
   "source": [
    "class Square():\n",
    "    def __init__(self,a,b):\n",
    "        self.a=a\n",
    "        self.b=b\n",
    "        \n",
    "s=Square(5,11)\n",
    "print(s.a)\n",
    "print(s.b)"
   ]
  },
  {
   "cell_type": "markdown",
   "id": "372f96f4",
   "metadata": {},
   "source": [
    "QUESTION"
   ]
  },
  {
   "cell_type": "markdown",
   "id": "22656a9f",
   "metadata": {},
   "source": [
    "### WAP to create a class to reverse a string word by word.   "
   ]
  },
  {
   "cell_type": "code",
   "execution_count": 58,
   "id": "24753ace",
   "metadata": {},
   "outputs": [
    {
     "name": "stdout",
     "output_type": "stream",
     "text": [
      "THAKUR SHEKHAR  SHASHI\n"
     ]
    }
   ],
   "source": [
    "class Strg():\n",
    "    def __init__(self,a):\n",
    "        print(a[15::],a[7:15],a[0:6])\n",
    "a=\"SHASHI SHEKHAR THAKUR\"\n",
    "s=Strg(a) "
   ]
  },
  {
   "cell_type": "markdown",
   "id": "4f44494e",
   "metadata": {},
   "source": [
    "### WAP to create a class that can calculate area of circle , rectangular , square & triangle.\n"
   ]
  },
  {
   "cell_type": "code",
   "execution_count": 61,
   "id": "39980ee9",
   "metadata": {},
   "outputs": [
    {
     "name": "stdout",
     "output_type": "stream",
     "text": [
      "AREA OF CIRCLE IS :-  78.5\n",
      "AREA OF RECTANGLE IS :-  500\n",
      "AREA OF SQUARE IS :-  36\n",
      "AREA OF TRIANGLE IS :-  4.0\n"
     ]
    }
   ],
   "source": [
    "class Calc():\n",
    "    def cir(self,r):\n",
    "        pi=3.14\n",
    "        A=pi*r*r\n",
    "        print(\"AREA OF CIRCLE IS :- \",A)\n",
    "    \n",
    "    def rec(self,w,l):\n",
    "        B=w*l\n",
    "        print(\"AREA OF RECTANGLE IS :- \",B)\n",
    "    \n",
    "    def squ(self,a):\n",
    "        C=a*a\n",
    "        print(\"AREA OF SQUARE IS :- \",C)\n",
    "              \n",
    "    def tri(self,a,b,c):\n",
    "        D=(a+b+c)/2\n",
    "        print(\"AREA OF TRIANGLE IS :- \",D)\n",
    "              \n",
    "t=Calc()\n",
    "t.cir(5)\n",
    "t.rec(50,10)\n",
    "t.squ(6)\n",
    "t.tri(1,2,5)        "
   ]
  }
 ],
 "metadata": {
  "kernelspec": {
   "display_name": "Python 3 (ipykernel)",
   "language": "python",
   "name": "python3"
  },
  "language_info": {
   "codemirror_mode": {
    "name": "ipython",
    "version": 3
   },
   "file_extension": ".py",
   "mimetype": "text/x-python",
   "name": "python",
   "nbconvert_exporter": "python",
   "pygments_lexer": "ipython3",
   "version": "3.9.0"
  }
 },
 "nbformat": 4,
 "nbformat_minor": 5
}
